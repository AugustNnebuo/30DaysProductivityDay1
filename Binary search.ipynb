{
 "cells": [
  {
   "cell_type": "code",
   "execution_count": 4,
   "metadata": {},
   "outputs": [
    {
     "name": "stdout",
     "output_type": "stream",
     "text": [
      "input the item you want from the list: 1\n",
      "steps 0 : [1, 2, 3, 4, 5, 6, 7, 8]\n",
      "steps 1 : [1, 2, 3, 4]\n",
      "steps 2 : [1]\n"
     ]
    },
    {
     "data": {
      "text/plain": [
       "0"
      ]
     },
     "execution_count": 4,
     "metadata": {},
     "output_type": "execute_result"
    }
   ],
   "source": [
    "#PYTHON PROJECT: BINARY SEARCH OPERATION. \n",
    "\n",
    "\"\"\"STEPS\n",
    ".a function that takes a listb and a target parameter.\n",
    ".we are going to declare multiple variables to show the start, the stop and the steps(ie the number of times it has\n",
    "spliited the list into half)\n",
    ".we can either use a while loop or a recursion.\n",
    ".increase the steps each time  a split is done.\n",
    ".Conditions to track target position.\"\"\"\n",
    "\n",
    "def binary_search(list, target_element):\n",
    "    \"\"\"Binary search is a searching algorithm that works by \n",
    "    repeatedly spliitting a set of data till ther target option is found.\n",
    "    Binary search is preferred often to linear search coz of its time complexities.\n",
    "    It doesnt have to search the whole list.It searches only what matters.\n",
    "    \"\"\"\n",
    "    middle=0\n",
    "    start=0\n",
    "    end=len(list)\n",
    "    steps=0\n",
    "    \n",
    "    while start<=end:\n",
    "        print(\"steps\",steps,\":\",str(list[start:end+1]))\n",
    "        \n",
    "        steps+=1\n",
    "        middle=(start+end)//2\n",
    "        \n",
    "        #this condition checks if our target is equal to the middle element in the list, if it is, it returns the\n",
    "        #middle element as our target. if its not, it goes to the next condition.\n",
    "        if target_element == list[middle]:\n",
    "            return middle\n",
    "        #the elif statement is ran if the middle aint t=our target. it checks if our target is less than the middle \n",
    "        #the middle element of the list. if it is it dicards the other part of the list and as thus, the new end of the list\n",
    "        #becomes the number before the middle numnber eg: if our list is [1,2,3,4,5] and our target is 2, python will check if \n",
    "        #our target is less than or equal to the middle number 3. since its less than, the new end of the list becomes 2,\n",
    "        # and python discards the other part of the list. If our target was 1, the operation continues.\n",
    "        elif target_element<list[middle]:\n",
    "            end=middle-1\n",
    "        else:\n",
    "            #if our target is > the middle, python updates the list to start from the number after the middle.\n",
    "            start=middle+1\n",
    "            \n",
    "    return -1\n",
    "\n",
    "#takes in the  target elemnt from the user\n",
    "list=[1,2,3,4,5,6,7,8]\n",
    "target_element=int(input(\"input the item you want from the list: \"))\n",
    "            \n",
    "#Now calling our function\n",
    "binary_search(list, target_element)\n",
    "            "
   ]
  }
 ],
 "metadata": {
  "kernelspec": {
   "display_name": "Python 3",
   "language": "python",
   "name": "python3"
  },
  "language_info": {
   "codemirror_mode": {
    "name": "ipython",
    "version": 3
   },
   "file_extension": ".py",
   "mimetype": "text/x-python",
   "name": "python",
   "nbconvert_exporter": "python",
   "pygments_lexer": "ipython3",
   "version": "3.7.3"
  }
 },
 "nbformat": 4,
 "nbformat_minor": 2
}
