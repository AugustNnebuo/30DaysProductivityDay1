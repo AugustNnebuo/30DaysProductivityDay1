{
 "cells": [
  {
   "cell_type": "code",
   "execution_count": null,
   "metadata": {},
   "outputs": [
    {
     "name": "stdout",
     "output_type": "stream",
     "text": [
      "input your email address: augustannebuo@gmail.com\n",
      "username:  augustannebuo\n",
      "Domain:  gmail\n",
      "Extension:  com\n",
      "\n",
      "WELCOME TO THE EMAIL SLICER!\n",
      "\n"
     ]
    }
   ],
   "source": [
    "#PYTHON PROJECT: EMAIL SLICER\n",
    "\n",
    "def main():\n",
    "    \"\"\"This program is used to split an email entered by the user into 3 parts, the username, the domain and the extension\"\"\"\n",
    "    print(\"WELCOME TO THE EMAIL SLICER!\")\n",
    "    print()\n",
    "    #we initialize a variable to collect the users input\n",
    "    email_input=input(\"input your email address: \")\n",
    "    \n",
    "    #we initialised 2 variables in a tuple, such that once the email is splitted, the 2 parts are inserted into the variables.\n",
    "    (username, domain)=email_input.split(\"@\")\n",
    "    (domain,extension)=domain.split(\".\")\n",
    "    \n",
    "    #prints out the email spliiteed in 3 parts\n",
    "    print(\"username: \",username)\n",
    "    print(\"Domain: \", domain)\n",
    "    print(\"Extension: \", extension)\n",
    "    print()\n",
    "\n",
    "while True:\n",
    "    main()\n",
    "    "
   ]
  }
 ],
 "metadata": {
  "kernelspec": {
   "display_name": "Python 3",
   "language": "python",
   "name": "python3"
  },
  "language_info": {
   "codemirror_mode": {
    "name": "ipython",
    "version": 3
   },
   "file_extension": ".py",
   "mimetype": "text/x-python",
   "name": "python",
   "nbconvert_exporter": "python",
   "pygments_lexer": "ipython3",
   "version": "3.7.3"
  }
 },
 "nbformat": 4,
 "nbformat_minor": 2
}
